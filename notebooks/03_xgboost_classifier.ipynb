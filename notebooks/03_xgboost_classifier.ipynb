{
 "cells": [
  {
   "cell_type": "code",
   "execution_count": 1,
   "id": "e9e2aa6d",
   "metadata": {},
   "outputs": [],
   "source": [
    "import pandas as pd\n",
    "import re\n",
    "\n",
    "# Load\n",
    "df = pd.read_csv('../data/phrasebank.csv', encoding='ISO-8859-1')\n",
    "df.columns = ['Sentiment', 'Text']\n",
    "# Clean & label\n",
    "df['Sentiment'] = df['Sentiment'].str.strip().str.capitalize()\n",
    "label_map = {'Negative': 0, 'Positive': 1, 'Neutral': 2}\n",
    "df['Label'] = df['Sentiment'].map(label_map)\n",
    "df = df[df['Label'].notna()]\n",
    "\n",
    "# Clean text\n",
    "def clean_text(text):\n",
    "    text = str(text).lower()\n",
    "    text = re.sub(r'[^a-z0-9\\s]', '', text)\n",
    "    text = re.sub(r'\\s+', ' ', text).strip()\n",
    "    return text\n",
    "\n",
    "df['Cleaned_Text'] = df['Text'].apply(clean_text)"
   ]
  },
  {
   "cell_type": "code",
   "execution_count": 2,
   "id": "89e45b20",
   "metadata": {},
   "outputs": [],
   "source": [
    "# Split and Vectorize\n",
    "from sklearn.model_selection import train_test_split\n",
    "from sklearn.feature_extraction.text import TfidfVectorizer\n",
    "\n",
    "X_train, X_test, y_train, y_test = train_test_split(\n",
    "    df['Cleaned_Text'], df['Label'], test_size=0.2, random_state=42, stratify=df['Label']\n",
    ")\n",
    "\n",
    "tfidf = TfidfVectorizer(max_features=5000)\n",
    "X_train_vec = tfidf.fit_transform(X_train)\n",
    "X_test_vec = tfidf.transform(X_test)\n"
   ]
  },
  {
   "cell_type": "code",
   "execution_count": 4,
   "id": "9b42fcec",
   "metadata": {},
   "outputs": [
    {
     "name": "stderr",
     "output_type": "stream",
     "text": [
      "c:\\Users\\varad\\AppData\\Local\\Programs\\Python\\Python312\\Lib\\site-packages\\xgboost\\training.py:183: UserWarning: [16:48:55] WARNING: C:\\actions-runner\\_work\\xgboost\\xgboost\\src\\learner.cc:738: \n",
      "Parameters: { \"use_label_encoder\" } are not used.\n",
      "\n",
      "  bst.update(dtrain, iteration=i, fobj=obj)\n"
     ]
    }
   ],
   "source": [
    "# Train XGBoost\n",
    "from xgboost import XGBClassifier\n",
    "\n",
    "xgb_model = XGBClassifier(\n",
    "    objective='multi:softmax',\n",
    "    num_class=3,\n",
    "    eval_metric='mlogloss',\n",
    "    use_label_encoder=False,\n",
    "    max_depth=6,\n",
    "    learning_rate=0.1,\n",
    "    n_estimators=100,\n",
    "    random_state=42\n",
    ")\n",
    "\n",
    "xgb_model.fit(X_train_vec, y_train)\n",
    "y_pred_xgb = xgb_model.predict(X_test_vec)\n"
   ]
  },
  {
   "cell_type": "code",
   "execution_count": 5,
   "id": "73c116ac",
   "metadata": {},
   "outputs": [
    {
     "name": "stdout",
     "output_type": "stream",
     "text": [
      "XGBoost Classifier Performance:\n",
      "              precision    recall  f1-score   support\n",
      "\n",
      "    Negative       0.79      0.48      0.60       121\n",
      "    Positive       0.79      0.49      0.60       273\n",
      "     Neutral       0.75      0.94      0.83       575\n",
      "\n",
      "    accuracy                           0.76       969\n",
      "   macro avg       0.78      0.64      0.68       969\n",
      "weighted avg       0.76      0.76      0.74       969\n",
      "\n"
     ]
    },
    {
     "data": {
      "image/png": "[encoded data removed]",
      "text/plain": [
       "<Figure size 640x480 with 2 Axes>"
      ]
     },
     "metadata": {},
     "output_type": "display_data"
    }
   ],
   "source": [
    "from sklearn.metrics import classification_report, confusion_matrix\n",
    "import seaborn as sns\n",
    "import matplotlib.pyplot as plt\n",
    "\n",
    "print(\"XGBoost Classifier Performance:\")\n",
    "print(classification_report(y_test, y_pred_xgb, target_names=['Negative', 'Positive', 'Neutral']))\n",
    "\n",
    "cm_xgb = confusion_matrix(y_test, y_pred_xgb)\n",
    "sns.heatmap(cm_xgb, annot=True, fmt='d', cmap='YlGn',\n",
    "            xticklabels=label_map.keys(), yticklabels=label_map.keys())\n",
    "plt.title(\"Confusion Matrix - XGBoost\")\n",
    "plt.xlabel(\"Predicted\")\n",
    "plt.ylabel(\"Actual\")\n",
    "plt.show()\n"
   ]
  },
  {
   "cell_type": "code",
   "execution_count": 3,
   "id": "bd8ab251",
   "metadata": {},
   "outputs": [
    {
     "name": "stdout",
     "output_type": "stream",
     "text": [
      "Collecting xgboostNote: you may need to restart the kernel to use updated packages.\n"
     ]
    },
    {
     "name": "stderr",
     "output_type": "stream",
     "text": [
      "\n",
      "[notice] A new release of pip is available: 24.3.1 -> 25.1.1\n",
      "[notice] To update, run: python.exe -m pip install --upgrade pip\n"
     ]
    },
    {
     "name": "stdout",
     "output_type": "stream",
     "text": [
      "\n",
      "  Downloading xgboost-3.0.2-py3-none-win_amd64.whl.metadata (2.1 kB)\n",
      "Requirement already satisfied: numpy in c:\\users\\varad\\appdata\\local\\programs\\python\\python312\\lib\\site-packages (from xgboost) (1.26.3)\n",
      "Requirement already satisfied: scipy in c:\\users\\varad\\appdata\\local\\programs\\python\\python312\\lib\\site-packages (from xgboost) (1.12.0)\n",
      "Downloading xgboost-3.0.2-py3-none-win_amd64.whl (150.0 MB)\n",
      "   ---------------------------------------- 0.0/150.0 MB ? eta -:--:--\n",
      "   - -------------------------------------- 4.5/150.0 MB 26.9 MB/s eta 0:00:06\n",
      "   -- ------------------------------------- 11.0/150.0 MB 29.9 MB/s eta 0:00:05\n",
      "   ----- ---------------------------------- 19.4/150.0 MB 33.1 MB/s eta 0:00:04\n",
      "   ------- -------------------------------- 27.3/150.0 MB 33.9 MB/s eta 0:00:04\n",
      "   --------- ------------------------------ 34.9/150.0 MB 34.6 MB/s eta 0:00:04\n",
      "   ----------- ---------------------------- 42.7/150.0 MB 35.3 MB/s eta 0:00:04\n",
      "   ------------- -------------------------- 50.3/150.0 MB 35.6 MB/s eta 0:00:03\n",
      "   --------------- ------------------------ 57.7/150.0 MB 35.7 MB/s eta 0:00:03\n",
      "   ---------------- ----------------------- 63.7/150.0 MB 34.7 MB/s eta 0:00:03\n",
      "   ------------------ --------------------- 69.2/150.0 MB 33.7 MB/s eta 0:00:03\n",
      "   ------------------- -------------------- 74.4/150.0 MB 33.0 MB/s eta 0:00:03\n",
      "   --------------------- ------------------ 80.0/150.0 MB 32.5 MB/s eta 0:00:03\n",
      "   ---------------------- ----------------- 83.4/150.0 MB 31.1 MB/s eta 0:00:03\n",
      "   ----------------------- ---------------- 86.5/150.0 MB 30.0 MB/s eta 0:00:03\n",
      "   ----------------------- ---------------- 88.9/150.0 MB 28.6 MB/s eta 0:00:03\n",
      "   ------------------------ --------------- 91.2/150.0 MB 27.6 MB/s eta 0:00:03\n",
      "   ------------------------ --------------- 93.6/150.0 MB 26.7 MB/s eta 0:00:03\n",
      "   ------------------------- -------------- 95.9/150.0 MB 25.8 MB/s eta 0:00:03\n",
      "   ------------------------- -------------- 97.0/150.0 MB 25.4 MB/s eta 0:00:03\n",
      "   ------------------------- -------------- 97.0/150.0 MB 25.4 MB/s eta 0:00:03\n",
      "   -------------------------- ------------- 98.8/150.0 MB 22.7 MB/s eta 0:00:03\n",
      "   -------------------------- ------------ 100.1/150.0 MB 22.0 MB/s eta 0:00:03\n",
      "   -------------------------- ------------ 100.1/150.0 MB 22.0 MB/s eta 0:00:03\n",
      "   -------------------------- ------------ 100.4/150.0 MB 20.5 MB/s eta 0:00:03\n",
      "   -------------------------- ------------ 101.4/150.0 MB 19.6 MB/s eta 0:00:03\n",
      "   --------------------------- ----------- 104.6/150.0 MB 19.4 MB/s eta 0:00:03\n",
      "   ---------------------------- ---------- 109.8/150.0 MB 19.5 MB/s eta 0:00:03\n",
      "   ------------------------------ -------- 116.1/150.0 MB 19.9 MB/s eta 0:00:02\n",
      "   ------------------------------- ------- 122.9/150.0 MB 20.3 MB/s eta 0:00:02\n",
      "   ---------------------------------- ---- 130.8/150.0 MB 20.9 MB/s eta 0:00:01\n",
      "   ------------------------------------ -- 140.2/150.0 MB 21.7 MB/s eta 0:00:01\n",
      "   --------------------------------------  148.9/150.0 MB 22.3 MB/s eta 0:00:01\n",
      "   --------------------------------------  149.9/150.0 MB 22.4 MB/s eta 0:00:01\n",
      "   --------------------------------------  149.9/150.0 MB 22.4 MB/s eta 0:00:01\n",
      "   --------------------------------------- 150.0/150.0 MB 20.9 MB/s eta 0:00:00\n",
      "Installing collected packages: xgboost\n",
      "Successfully installed xgboost-3.0.2\n"
     ]
    }
   ],
   "source": [
    "pip install xgboost\n"
   ]
  }
 ],
 "metadata": {
  "kernelspec": {
   "display_name": "Python 3",
   "language": "python",
   "name": "python3"
  },
  "language_info": {
   "codemirror_mode": {
    "name": "ipython",
    "version": 3
   },
   "file_extension": ".py",
   "mimetype": "text/x-python",
   "name": "python",
   "nbconvert_exporter": "python",
   "pygments_lexer": "ipython3",
   "version": "3.12.1"
  }
 },
 "nbformat": 4,
 "nbformat_minor": 5
}
